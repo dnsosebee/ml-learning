{
 "cells": [
  {
   "cell_type": "code",
   "execution_count": 1,
   "id": "a1781a06",
   "metadata": {
    "_cell_guid": "b1076dfc-b9ad-4769-8c92-a6c4dae69d19",
    "_uuid": "8f2839f25d086af736a60e9eeb907d3b93b6e0e5",
    "execution": {
     "iopub.execute_input": "2024-12-02T01:08:22.976692Z",
     "iopub.status.busy": "2024-12-02T01:08:22.976177Z",
     "iopub.status.idle": "2024-12-02T01:08:22.993140Z",
     "shell.execute_reply": "2024-12-02T01:08:22.991980Z"
    },
    "papermill": {
     "duration": 0.026464,
     "end_time": "2024-12-02T01:08:22.995796",
     "exception": false,
     "start_time": "2024-12-02T01:08:22.969332",
     "status": "completed"
    },
    "tags": []
   },
   "outputs": [
    {
     "name": "stdout",
     "output_type": "stream",
     "text": [
      "/kaggle/input/makemore-text/names.txt\n"
     ]
    }
   ],
   "source": [
    "# This Python 3 environment comes with many helpful analytics libraries installed\n",
    "# It is defined by the kaggle/python Docker image: https://github.com/kaggle/docker-python\n",
    "# For example, here's several helpful packages to load\n",
    "\n",
    "# Input data files are available in the read-only \"../input/\" directory\n",
    "# For example, running this (by clicking run or pressing Shift+Enter) will list all files under the input directory\n",
    "\n",
    "import os\n",
    "for dirname, _, filenames in os.walk('/kaggle/input'):\n",
    "    for filename in filenames:\n",
    "        print(os.path.join(dirname, filename))\n",
    "\n",
    "# You can write up to 20GB to the current directory (/kaggle/working/) that gets preserved as output when you create a version using \"Save & Run All\" \n",
    "# You can also write temporary files to /kaggle/temp/, but they won't be saved outside of the current session"
   ]
  },
  {
   "cell_type": "code",
   "execution_count": 2,
   "id": "22e3d527",
   "metadata": {
    "execution": {
     "iopub.execute_input": "2024-12-02T01:08:23.006295Z",
     "iopub.status.busy": "2024-12-02T01:08:23.005906Z",
     "iopub.status.idle": "2024-12-02T01:08:26.377757Z",
     "shell.execute_reply": "2024-12-02T01:08:26.376648Z"
    },
    "papermill": {
     "duration": 3.380558,
     "end_time": "2024-12-02T01:08:26.380790",
     "exception": false,
     "start_time": "2024-12-02T01:08:23.000232",
     "status": "completed"
    },
    "tags": []
   },
   "outputs": [],
   "source": [
    "import torch\n",
    "import torch.nn.functional as F\n",
    "import matplotlib.pyplot as plt # for making figures\n",
    "%matplotlib inline"
   ]
  },
  {
   "cell_type": "code",
   "execution_count": 3,
   "id": "9159abb2",
   "metadata": {
    "execution": {
     "iopub.execute_input": "2024-12-02T01:08:26.391063Z",
     "iopub.status.busy": "2024-12-02T01:08:26.390533Z",
     "iopub.status.idle": "2024-12-02T01:08:26.410621Z",
     "shell.execute_reply": "2024-12-02T01:08:26.409419Z"
    },
    "papermill": {
     "duration": 0.028162,
     "end_time": "2024-12-02T01:08:26.413242",
     "exception": false,
     "start_time": "2024-12-02T01:08:26.385080",
     "status": "completed"
    },
    "tags": []
   },
   "outputs": [
    {
     "data": {
      "text/plain": [
       "['emma', 'olivia', 'ava', 'isabella', 'sophia', 'charlotte', 'mia', 'amelia']"
      ]
     },
     "execution_count": 3,
     "metadata": {},
     "output_type": "execute_result"
    }
   ],
   "source": [
    "words = open('/kaggle/input/makemore-text/names.txt', 'r').read().splitlines()\n",
    "words[:8]"
   ]
  },
  {
   "cell_type": "code",
   "execution_count": 4,
   "id": "69071f24",
   "metadata": {
    "execution": {
     "iopub.execute_input": "2024-12-02T01:08:26.424204Z",
     "iopub.status.busy": "2024-12-02T01:08:26.423770Z",
     "iopub.status.idle": "2024-12-02T01:08:26.430781Z",
     "shell.execute_reply": "2024-12-02T01:08:26.429743Z"
    },
    "papermill": {
     "duration": 0.015086,
     "end_time": "2024-12-02T01:08:26.433087",
     "exception": false,
     "start_time": "2024-12-02T01:08:26.418001",
     "status": "completed"
    },
    "tags": []
   },
   "outputs": [
    {
     "data": {
      "text/plain": [
       "32033"
      ]
     },
     "execution_count": 4,
     "metadata": {},
     "output_type": "execute_result"
    }
   ],
   "source": [
    "len(words)"
   ]
  },
  {
   "cell_type": "code",
   "execution_count": 5,
   "id": "8b77058c",
   "metadata": {
    "execution": {
     "iopub.execute_input": "2024-12-02T01:08:26.443364Z",
     "iopub.status.busy": "2024-12-02T01:08:26.442976Z",
     "iopub.status.idle": "2024-12-02T01:08:26.453987Z",
     "shell.execute_reply": "2024-12-02T01:08:26.452445Z"
    },
    "papermill": {
     "duration": 0.02028,
     "end_time": "2024-12-02T01:08:26.457642",
     "exception": false,
     "start_time": "2024-12-02T01:08:26.437362",
     "status": "completed"
    },
    "tags": []
   },
   "outputs": [
    {
     "name": "stdout",
     "output_type": "stream",
     "text": [
      "{1: 'a', 2: 'b', 3: 'c', 4: 'd', 5: 'e', 6: 'f', 7: 'g', 8: 'h', 9: 'i', 10: 'j', 11: 'k', 12: 'l', 13: 'm', 14: 'n', 15: 'o', 16: 'p', 17: 'q', 18: 'r', 19: 's', 20: 't', 21: 'u', 22: 'v', 23: 'w', 24: 'x', 25: 'y', 26: 'z', 0: '.'}\n"
     ]
    }
   ],
   "source": [
    "\n",
    "# build the vocabulary of characters and mappings to/from integers\n",
    "chars = sorted(list(set(''.join(words))))\n",
    "stoi = {s:i+1 for i,s in enumerate(chars)}\n",
    "stoi['.'] = 0\n",
    "itos = {i:s for s,i in stoi.items()}\n",
    "print(itos)"
   ]
  },
  {
   "cell_type": "code",
   "execution_count": 6,
   "id": "a2133c69",
   "metadata": {
    "execution": {
     "iopub.execute_input": "2024-12-02T01:08:26.469336Z",
     "iopub.status.busy": "2024-12-02T01:08:26.468943Z",
     "iopub.status.idle": "2024-12-02T01:08:27.135523Z",
     "shell.execute_reply": "2024-12-02T01:08:27.133961Z"
    },
    "papermill": {
     "duration": 0.675289,
     "end_time": "2024-12-02T01:08:27.138117",
     "exception": false,
     "start_time": "2024-12-02T01:08:26.462828",
     "status": "completed"
    },
    "tags": []
   },
   "outputs": [
    {
     "name": "stdout",
     "output_type": "stream",
     "text": [
      "torch.Size([182625, 3]) torch.Size([182625])\n",
      "torch.Size([22655, 3]) torch.Size([22655])\n",
      "torch.Size([22866, 3]) torch.Size([22866])\n"
     ]
    }
   ],
   "source": [
    "# build the dataset\n",
    "block_size = 3 # context length: how many characters do we take to predict the next one?\n",
    "\n",
    "def build_dataset(words):  \n",
    "  X, Y = [], []\n",
    "  for w in words:\n",
    "\n",
    "    #print(w)\n",
    "    context = [0] * block_size\n",
    "    for ch in w + '.':\n",
    "      ix = stoi[ch]\n",
    "      X.append(context)\n",
    "      Y.append(ix)\n",
    "      #print(''.join(itos[i] for i in context), '--->', itos[ix])\n",
    "      context = context[1:] + [ix] # crop and append\n",
    "\n",
    "  X = torch.tensor(X)\n",
    "  Y = torch.tensor(Y)\n",
    "  print(X.shape, Y.shape)\n",
    "  return X, Y\n",
    "\n",
    "import random\n",
    "random.seed(42)\n",
    "random.shuffle(words)\n",
    "n1 = int(0.8*len(words))\n",
    "n2 = int(0.9*len(words))\n",
    "\n",
    "Xtr, Ytr = build_dataset(words[:n1])\n",
    "Xdev, Ydev = build_dataset(words[n1:n2])\n",
    "Xte, Yte = build_dataset(words[n2:])"
   ]
  },
  {
   "cell_type": "code",
   "execution_count": 7,
   "id": "ecc2cad7",
   "metadata": {
    "execution": {
     "iopub.execute_input": "2024-12-02T01:08:27.148514Z",
     "iopub.status.busy": "2024-12-02T01:08:27.148137Z",
     "iopub.status.idle": "2024-12-02T01:08:27.152981Z",
     "shell.execute_reply": "2024-12-02T01:08:27.151778Z"
    },
    "papermill": {
     "duration": 0.013,
     "end_time": "2024-12-02T01:08:27.155615",
     "exception": false,
     "start_time": "2024-12-02T01:08:27.142615",
     "status": "completed"
    },
    "tags": []
   },
   "outputs": [],
   "source": [
    "# More respectable"
   ]
  },
  {
   "cell_type": "code",
   "execution_count": 8,
   "id": "f396593c",
   "metadata": {
    "execution": {
     "iopub.execute_input": "2024-12-02T01:08:27.167150Z",
     "iopub.status.busy": "2024-12-02T01:08:27.166743Z",
     "iopub.status.idle": "2024-12-02T01:08:27.184628Z",
     "shell.execute_reply": "2024-12-02T01:08:27.183384Z"
    },
    "papermill": {
     "duration": 0.026946,
     "end_time": "2024-12-02T01:08:27.187104",
     "exception": false,
     "start_time": "2024-12-02T01:08:27.160158",
     "status": "completed"
    },
    "tags": []
   },
   "outputs": [],
   "source": [
    "g = torch.Generator().manual_seed(2147483647)\n",
    "C = torch.randn((27,10), generator=g)\n",
    "W1 = torch.randn((30,200), generator=g)\n",
    "b1 = torch.randn((200), generator=g)\n",
    "W2 = torch.randn((200,27), generator=g)\n",
    "b2 = torch.randn(27, generator=g)\n",
    "parameters = [C, W1, b1, W2, b2]"
   ]
  },
  {
   "cell_type": "code",
   "execution_count": 9,
   "id": "0cfed199",
   "metadata": {
    "execution": {
     "iopub.execute_input": "2024-12-02T01:08:27.197921Z",
     "iopub.status.busy": "2024-12-02T01:08:27.197481Z",
     "iopub.status.idle": "2024-12-02T01:08:27.206283Z",
     "shell.execute_reply": "2024-12-02T01:08:27.205182Z"
    },
    "papermill": {
     "duration": 0.016988,
     "end_time": "2024-12-02T01:08:27.208730",
     "exception": false,
     "start_time": "2024-12-02T01:08:27.191742",
     "status": "completed"
    },
    "tags": []
   },
   "outputs": [
    {
     "data": {
      "text/plain": [
       "11897"
      ]
     },
     "execution_count": 9,
     "metadata": {},
     "output_type": "execute_result"
    }
   ],
   "source": [
    "sum(p.nelement() for p in parameters)"
   ]
  },
  {
   "cell_type": "code",
   "execution_count": 10,
   "id": "bf2db4cb",
   "metadata": {
    "execution": {
     "iopub.execute_input": "2024-12-02T01:08:27.219782Z",
     "iopub.status.busy": "2024-12-02T01:08:27.219422Z",
     "iopub.status.idle": "2024-12-02T01:08:27.224463Z",
     "shell.execute_reply": "2024-12-02T01:08:27.223195Z"
    },
    "papermill": {
     "duration": 0.013455,
     "end_time": "2024-12-02T01:08:27.226764",
     "exception": false,
     "start_time": "2024-12-02T01:08:27.213309",
     "status": "completed"
    },
    "tags": []
   },
   "outputs": [],
   "source": [
    "for p in parameters:\n",
    "    p.requires_grad = True"
   ]
  },
  {
   "cell_type": "code",
   "execution_count": 11,
   "id": "2de894ca",
   "metadata": {
    "execution": {
     "iopub.execute_input": "2024-12-02T01:08:27.238808Z",
     "iopub.status.busy": "2024-12-02T01:08:27.238436Z",
     "iopub.status.idle": "2024-12-02T01:08:27.275247Z",
     "shell.execute_reply": "2024-12-02T01:08:27.273958Z"
    },
    "papermill": {
     "duration": 0.046333,
     "end_time": "2024-12-02T01:08:27.278005",
     "exception": false,
     "start_time": "2024-12-02T01:08:27.231672",
     "status": "completed"
    },
    "tags": []
   },
   "outputs": [],
   "source": [
    "lre = torch.linspace(-3, 0, 1000)\n",
    "lrs = 10**lre\n",
    "\n",
    "lri = []\n",
    "lossi = []\n",
    "stepi = []"
   ]
  },
  {
   "cell_type": "code",
   "execution_count": 12,
   "id": "41dff15c",
   "metadata": {
    "execution": {
     "iopub.execute_input": "2024-12-02T01:08:27.290209Z",
     "iopub.status.busy": "2024-12-02T01:08:27.288825Z",
     "iopub.status.idle": "2024-12-02T01:08:57.121109Z",
     "shell.execute_reply": "2024-12-02T01:08:57.119701Z"
    },
    "papermill": {
     "duration": 29.84102,
     "end_time": "2024-12-02T01:08:57.123837",
     "exception": false,
     "start_time": "2024-12-02T01:08:27.282817",
     "status": "completed"
    },
    "tags": []
   },
   "outputs": [],
   "source": [
    "for i in range(50000):\n",
    "\n",
    "    # minibatch\n",
    "    ix = torch.randint(0, Xtr.shape[0], (32,))\n",
    "    \n",
    "    # forward\n",
    "    emb = C[Xtr[ix]]\n",
    "    h = torch.tanh(emb.view(-1, 30) @ W1 + b1)\n",
    "    logits = h @ W2 + b2\n",
    "    loss = F.cross_entropy(logits, Ytr[ix])\n",
    "    # print(loss)\n",
    "    \n",
    "    # backward\n",
    "    for p in parameters:\n",
    "        p.grad = None\n",
    "    loss.backward()\n",
    "    \n",
    "    # update\n",
    "    lr = 0.01\n",
    "    for p in parameters:\n",
    "        p.data += -lr * p.grad\n",
    "\n",
    "    stepi.append(i)\n",
    "    lossi.append(loss.log10().item())"
   ]
  },
  {
   "cell_type": "code",
   "execution_count": 13,
   "id": "bcdf61d4",
   "metadata": {
    "execution": {
     "iopub.execute_input": "2024-12-02T01:08:57.135223Z",
     "iopub.status.busy": "2024-12-02T01:08:57.134171Z",
     "iopub.status.idle": "2024-12-02T01:08:57.572195Z",
     "shell.execute_reply": "2024-12-02T01:08:57.571133Z"
    },
    "papermill": {
     "duration": 0.446093,
     "end_time": "2024-12-02T01:08:57.574519",
     "exception": false,
     "start_time": "2024-12-02T01:08:57.128426",
     "status": "completed"
    },
    "tags": []
   },
   "outputs": [
    {
     "data": {
      "text/plain": [
       "[<matplotlib.lines.Line2D at 0x7992cb2a9090>]"
      ]
     },
     "execution_count": 13,
     "metadata": {},
     "output_type": "execute_result"
    },
    {
     "data": {
      "image/png": "[encoded data removed]",
      "text/plain": [
       "<Figure size 640x480 with 1 Axes>"
      ]
     },
     "metadata": {},
     "output_type": "display_data"
    }
   ],
   "source": [
    "plt.plot(stepi, lossi)"
   ]
  },
  {
   "cell_type": "code",
   "execution_count": 14,
   "id": "928a1b9b",
   "metadata": {
    "execution": {
     "iopub.execute_input": "2024-12-02T01:08:57.587325Z",
     "iopub.status.busy": "2024-12-02T01:08:57.586935Z",
     "iopub.status.idle": "2024-12-02T01:08:58.063189Z",
     "shell.execute_reply": "2024-12-02T01:08:58.061722Z"
    },
    "papermill": {
     "duration": 0.485859,
     "end_time": "2024-12-02T01:08:58.065610",
     "exception": false,
     "start_time": "2024-12-02T01:08:57.579751",
     "status": "completed"
    },
    "tags": []
   },
   "outputs": [
    {
     "data": {
      "text/plain": [
       "tensor(2.4104, grad_fn=<NllLossBackward0>)"
      ]
     },
     "execution_count": 14,
     "metadata": {},
     "output_type": "execute_result"
    }
   ],
   "source": [
    "emb = C[Xtr]\n",
    "h = torch.tanh(emb.view(-1, 30) @ W1 + b1)\n",
    "logits = h @ W2 + b2\n",
    "loss = F.cross_entropy(logits, Ytr)\n",
    "loss"
   ]
  },
  {
   "cell_type": "code",
   "execution_count": 15,
   "id": "b926dd6c",
   "metadata": {
    "execution": {
     "iopub.execute_input": "2024-12-02T01:08:58.077920Z",
     "iopub.status.busy": "2024-12-02T01:08:58.077507Z",
     "iopub.status.idle": "2024-12-02T01:08:58.135641Z",
     "shell.execute_reply": "2024-12-02T01:08:58.134552Z"
    },
    "papermill": {
     "duration": 0.067446,
     "end_time": "2024-12-02T01:08:58.138284",
     "exception": false,
     "start_time": "2024-12-02T01:08:58.070838",
     "status": "completed"
    },
    "tags": []
   },
   "outputs": [
    {
     "data": {
      "text/plain": [
       "tensor(2.4146, grad_fn=<NllLossBackward0>)"
      ]
     },
     "execution_count": 15,
     "metadata": {},
     "output_type": "execute_result"
    }
   ],
   "source": [
    "emb = C[Xdev]\n",
    "h = torch.tanh(emb.view(-1, 30) @ W1 + b1)\n",
    "logits = h @ W2 + b2\n",
    "loss = F.cross_entropy(logits, Ydev)\n",
    "loss"
   ]
  },
  {
   "cell_type": "code",
   "execution_count": 16,
   "id": "1f099670",
   "metadata": {
    "execution": {
     "iopub.execute_input": "2024-12-02T01:08:58.150805Z",
     "iopub.status.busy": "2024-12-02T01:08:58.150267Z",
     "iopub.status.idle": "2024-12-02T01:08:58.195147Z",
     "shell.execute_reply": "2024-12-02T01:08:58.193794Z"
    },
    "papermill": {
     "duration": 0.053859,
     "end_time": "2024-12-02T01:08:58.197662",
     "exception": false,
     "start_time": "2024-12-02T01:08:58.143803",
     "status": "completed"
    },
    "tags": []
   },
   "outputs": [
    {
     "name": "stdout",
     "output_type": "stream",
     "text": [
      "mro.\n",
      "almynzoreel.\n",
      "ndyny.\n",
      "larethan.\n",
      "brdhne.\n",
      "cazered.\n",
      "elii.\n",
      "shy.\n",
      "jean.\n",
      "keisonn.\n",
      "aar.\n",
      "katella.\n",
      "kalin.\n",
      "shdenrishimiel.\n",
      "kin.\n",
      "reelliranteror.\n",
      "ubh.\n",
      "ghdir.\n",
      "ylynn.\n",
      "eha.\n"
     ]
    }
   ],
   "source": [
    "# sample from the model\n",
    "g = torch.Generator().manual_seed(2147483647 + 10)\n",
    "\n",
    "for _ in range(20):\n",
    "    \n",
    "    out = []\n",
    "    context = [0] * block_size # initialize with all ...\n",
    "    while True:\n",
    "      emb = C[torch.tensor([context])] # (1,block_size,d)\n",
    "      h = torch.tanh(emb.view(1, -1) @ W1 + b1)\n",
    "      logits = h @ W2 + b2\n",
    "      probs = F.softmax(logits, dim=1)\n",
    "      ix = torch.multinomial(probs, num_samples=1, generator=g).item()\n",
    "      context = context[1:] + [ix]\n",
    "      out.append(ix)\n",
    "      if ix == 0:\n",
    "        break\n",
    "    \n",
    "    print(''.join(itos[i] for i in out))"
   ]
  },
  {
   "cell_type": "code",
   "execution_count": null,
   "id": "ac4579d6",
   "metadata": {
    "papermill": {
     "duration": 0.004923,
     "end_time": "2024-12-02T01:08:58.208002",
     "exception": false,
     "start_time": "2024-12-02T01:08:58.203079",
     "status": "completed"
    },
    "tags": []
   },
   "outputs": [],
   "source": []
  }
 ],
 "metadata": {
  "kaggle": {
   "accelerator": "none",
   "dataSources": [
    {
     "datasetId": 5562534,
     "sourceId": 9200657,
     "sourceType": "datasetVersion"
    }
   ],
   "dockerImageVersionId": 30786,
   "isGpuEnabled": false,
   "isInternetEnabled": true,
   "language": "python",
   "sourceType": "notebook"
  },
  "kernelspec": {
   "display_name": "Python 3",
   "language": "python",
   "name": "python3"
  },
  "language_info": {
   "codemirror_mode": {
    "name": "ipython",
    "version": 3
   },
   "file_extension": ".py",
   "mimetype": "text/x-python",
   "name": "python",
   "nbconvert_exporter": "python",
   "pygments_lexer": "ipython3",
   "version": "3.10.14"
  },
  "papermill": {
   "default_parameters": {},
   "duration": 39.046137,
   "end_time": "2024-12-02T01:08:59.137242",
   "environment_variables": {},
   "exception": null,
   "input_path": "__notebook__.ipynb",
   "output_path": "__notebook__.ipynb",
   "parameters": {},
   "start_time": "2024-12-02T01:08:20.091105",
   "version": "2.6.0"
  }
 },
 "nbformat": 4,
 "nbformat_minor": 5
}
